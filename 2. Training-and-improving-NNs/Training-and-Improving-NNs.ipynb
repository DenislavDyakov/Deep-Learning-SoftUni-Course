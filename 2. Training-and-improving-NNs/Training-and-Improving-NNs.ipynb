{
 "cells": [
  {
   "cell_type": "code",
   "execution_count": 101,
   "metadata": {},
   "outputs": [],
   "source": [
    "import pandas as pd\n",
    "import numpy as np\n",
    "import matplotlib.pyplot as plt"
   ]
  },
  {
   "cell_type": "code",
   "execution_count": 102,
   "metadata": {},
   "outputs": [],
   "source": [
    "import tensorflow as tf\n",
    "from tensorflow.keras.models import Sequential\n",
    "from tensorflow.keras.layers import Input, Dense, Dropout, BatchNormalization\n",
    "from tensorflow.keras.losses import categorical_crossentropy, sparse_categorical_crossentropy\n",
    "from tensorflow.keras.regularizers import L1L2, l1, l2\n",
    "from tensorflow.keras.initializers import GlorotUniform, GlorotNormal\n",
    "from tensorflow.keras.optimizers import RMSprop\n",
    "from tensorflow.keras.metrics import Precision, Accuracy, Recall\n",
    "import tensorboard_plugin_wit"
   ]
  },
  {
   "cell_type": "code",
   "execution_count": 103,
   "metadata": {},
   "outputs": [
    {
     "name": "stdout",
     "output_type": "stream",
     "text": [
      "The tensorboard extension is already loaded. To reload it, use:\n",
      "  %reload_ext tensorboard\n"
     ]
    }
   ],
   "source": [
    "%load_ext tensorboard"
   ]
  },
  {
   "cell_type": "markdown",
   "metadata": {},
   "source": [
    "## Live Demo"
   ]
  },
  {
   "cell_type": "code",
   "execution_count": null,
   "metadata": {},
   "outputs": [],
   "source": []
  },
  {
   "cell_type": "code",
   "execution_count": 104,
   "metadata": {},
   "outputs": [],
   "source": [
    "train_df = pd.read_csv(\"fashion-mnist_train.csv\")"
   ]
  },
  {
   "cell_type": "code",
   "execution_count": 105,
   "metadata": {},
   "outputs": [
    {
     "data": {
      "text/html": [
       "<div>\n",
       "<style scoped>\n",
       "    .dataframe tbody tr th:only-of-type {\n",
       "        vertical-align: middle;\n",
       "    }\n",
       "\n",
       "    .dataframe tbody tr th {\n",
       "        vertical-align: top;\n",
       "    }\n",
       "\n",
       "    .dataframe thead th {\n",
       "        text-align: right;\n",
       "    }\n",
       "</style>\n",
       "<table border=\"1\" class=\"dataframe\">\n",
       "  <thead>\n",
       "    <tr style=\"text-align: right;\">\n",
       "      <th></th>\n",
       "      <th>label</th>\n",
       "      <th>pixel1</th>\n",
       "      <th>pixel2</th>\n",
       "      <th>pixel3</th>\n",
       "      <th>pixel4</th>\n",
       "      <th>pixel5</th>\n",
       "      <th>pixel6</th>\n",
       "      <th>pixel7</th>\n",
       "      <th>pixel8</th>\n",
       "      <th>pixel9</th>\n",
       "      <th>...</th>\n",
       "      <th>pixel775</th>\n",
       "      <th>pixel776</th>\n",
       "      <th>pixel777</th>\n",
       "      <th>pixel778</th>\n",
       "      <th>pixel779</th>\n",
       "      <th>pixel780</th>\n",
       "      <th>pixel781</th>\n",
       "      <th>pixel782</th>\n",
       "      <th>pixel783</th>\n",
       "      <th>pixel784</th>\n",
       "    </tr>\n",
       "  </thead>\n",
       "  <tbody>\n",
       "    <tr>\n",
       "      <th>0</th>\n",
       "      <td>2</td>\n",
       "      <td>0</td>\n",
       "      <td>0</td>\n",
       "      <td>0</td>\n",
       "      <td>0</td>\n",
       "      <td>0</td>\n",
       "      <td>0</td>\n",
       "      <td>0</td>\n",
       "      <td>0</td>\n",
       "      <td>0</td>\n",
       "      <td>...</td>\n",
       "      <td>0</td>\n",
       "      <td>0</td>\n",
       "      <td>0</td>\n",
       "      <td>0</td>\n",
       "      <td>0</td>\n",
       "      <td>0</td>\n",
       "      <td>0</td>\n",
       "      <td>0</td>\n",
       "      <td>0</td>\n",
       "      <td>0</td>\n",
       "    </tr>\n",
       "    <tr>\n",
       "      <th>1</th>\n",
       "      <td>9</td>\n",
       "      <td>0</td>\n",
       "      <td>0</td>\n",
       "      <td>0</td>\n",
       "      <td>0</td>\n",
       "      <td>0</td>\n",
       "      <td>0</td>\n",
       "      <td>0</td>\n",
       "      <td>0</td>\n",
       "      <td>0</td>\n",
       "      <td>...</td>\n",
       "      <td>0</td>\n",
       "      <td>0</td>\n",
       "      <td>0</td>\n",
       "      <td>0</td>\n",
       "      <td>0</td>\n",
       "      <td>0</td>\n",
       "      <td>0</td>\n",
       "      <td>0</td>\n",
       "      <td>0</td>\n",
       "      <td>0</td>\n",
       "    </tr>\n",
       "    <tr>\n",
       "      <th>2</th>\n",
       "      <td>6</td>\n",
       "      <td>0</td>\n",
       "      <td>0</td>\n",
       "      <td>0</td>\n",
       "      <td>0</td>\n",
       "      <td>0</td>\n",
       "      <td>0</td>\n",
       "      <td>0</td>\n",
       "      <td>5</td>\n",
       "      <td>0</td>\n",
       "      <td>...</td>\n",
       "      <td>0</td>\n",
       "      <td>0</td>\n",
       "      <td>0</td>\n",
       "      <td>30</td>\n",
       "      <td>43</td>\n",
       "      <td>0</td>\n",
       "      <td>0</td>\n",
       "      <td>0</td>\n",
       "      <td>0</td>\n",
       "      <td>0</td>\n",
       "    </tr>\n",
       "    <tr>\n",
       "      <th>3</th>\n",
       "      <td>0</td>\n",
       "      <td>0</td>\n",
       "      <td>0</td>\n",
       "      <td>0</td>\n",
       "      <td>1</td>\n",
       "      <td>2</td>\n",
       "      <td>0</td>\n",
       "      <td>0</td>\n",
       "      <td>0</td>\n",
       "      <td>0</td>\n",
       "      <td>...</td>\n",
       "      <td>3</td>\n",
       "      <td>0</td>\n",
       "      <td>0</td>\n",
       "      <td>0</td>\n",
       "      <td>0</td>\n",
       "      <td>1</td>\n",
       "      <td>0</td>\n",
       "      <td>0</td>\n",
       "      <td>0</td>\n",
       "      <td>0</td>\n",
       "    </tr>\n",
       "    <tr>\n",
       "      <th>4</th>\n",
       "      <td>3</td>\n",
       "      <td>0</td>\n",
       "      <td>0</td>\n",
       "      <td>0</td>\n",
       "      <td>0</td>\n",
       "      <td>0</td>\n",
       "      <td>0</td>\n",
       "      <td>0</td>\n",
       "      <td>0</td>\n",
       "      <td>0</td>\n",
       "      <td>...</td>\n",
       "      <td>0</td>\n",
       "      <td>0</td>\n",
       "      <td>0</td>\n",
       "      <td>0</td>\n",
       "      <td>0</td>\n",
       "      <td>0</td>\n",
       "      <td>0</td>\n",
       "      <td>0</td>\n",
       "      <td>0</td>\n",
       "      <td>0</td>\n",
       "    </tr>\n",
       "  </tbody>\n",
       "</table>\n",
       "<p>5 rows × 785 columns</p>\n",
       "</div>"
      ],
      "text/plain": [
       "   label  pixel1  pixel2  pixel3  pixel4  pixel5  pixel6  pixel7  pixel8  \\\n",
       "0      2       0       0       0       0       0       0       0       0   \n",
       "1      9       0       0       0       0       0       0       0       0   \n",
       "2      6       0       0       0       0       0       0       0       5   \n",
       "3      0       0       0       0       1       2       0       0       0   \n",
       "4      3       0       0       0       0       0       0       0       0   \n",
       "\n",
       "   pixel9  ...  pixel775  pixel776  pixel777  pixel778  pixel779  pixel780  \\\n",
       "0       0  ...         0         0         0         0         0         0   \n",
       "1       0  ...         0         0         0         0         0         0   \n",
       "2       0  ...         0         0         0        30        43         0   \n",
       "3       0  ...         3         0         0         0         0         1   \n",
       "4       0  ...         0         0         0         0         0         0   \n",
       "\n",
       "   pixel781  pixel782  pixel783  pixel784  \n",
       "0         0         0         0         0  \n",
       "1         0         0         0         0  \n",
       "2         0         0         0         0  \n",
       "3         0         0         0         0  \n",
       "4         0         0         0         0  \n",
       "\n",
       "[5 rows x 785 columns]"
      ]
     },
     "execution_count": 105,
     "metadata": {},
     "output_type": "execute_result"
    }
   ],
   "source": [
    "train_df.head()"
   ]
  },
  {
   "cell_type": "code",
   "execution_count": 106,
   "metadata": {},
   "outputs": [
    {
     "data": {
      "text/plain": [
       "(60000, 785)"
      ]
     },
     "execution_count": 106,
     "metadata": {},
     "output_type": "execute_result"
    }
   ],
   "source": [
    "train_df.shape"
   ]
  },
  {
   "cell_type": "code",
   "execution_count": 107,
   "metadata": {},
   "outputs": [],
   "source": [
    "test_df = pd.read_csv(\"fashion-mnist_test.csv\")"
   ]
  },
  {
   "cell_type": "code",
   "execution_count": 108,
   "metadata": {},
   "outputs": [
    {
     "data": {
      "text/plain": [
       "(10000, 785)"
      ]
     },
     "execution_count": 108,
     "metadata": {},
     "output_type": "execute_result"
    }
   ],
   "source": [
    "test_df.shape"
   ]
  },
  {
   "cell_type": "code",
   "execution_count": 109,
   "metadata": {},
   "outputs": [],
   "source": [
    "testing_sample = train_df.sample(10)"
   ]
  },
  {
   "cell_type": "code",
   "execution_count": 110,
   "metadata": {},
   "outputs": [
    {
     "name": "stdout",
     "output_type": "stream",
     "text": [
      "(28, 28)\n"
     ]
    },
    {
     "data": {
      "image/png": "[encoded data removed]",
      "text/plain": [
       "<Figure size 432x288 with 1 Axes>"
      ]
     },
     "metadata": {
      "needs_background": "light"
     },
     "output_type": "display_data"
    }
   ],
   "source": [
    "for index, row in testing_sample.iterrows():\n",
    "\n",
    "    label = row.values[0]\n",
    "    row_values = row.values[1:].reshape((28,28))\n",
    "    print(row_values.shape)\n",
    "    \n",
    "    plt.imshow(row_values, cmap = \"gray\")\n",
    "    plt.show()\n",
    "    \n",
    "    break"
   ]
  },
  {
   "cell_type": "code",
   "execution_count": 111,
   "metadata": {},
   "outputs": [],
   "source": [
    "fashion_attributes = train_df.drop(\"label\", axis = 1)"
   ]
  },
  {
   "cell_type": "code",
   "execution_count": 112,
   "metadata": {},
   "outputs": [
    {
     "data": {
      "text/plain": [
       "(60000, 784)"
      ]
     },
     "execution_count": 112,
     "metadata": {},
     "output_type": "execute_result"
    }
   ],
   "source": [
    "fashion_attributes.shape"
   ]
  },
  {
   "cell_type": "code",
   "execution_count": 113,
   "metadata": {},
   "outputs": [],
   "source": [
    "fashion_labels = train_df[\"label\"]"
   ]
  },
  {
   "cell_type": "code",
   "execution_count": 114,
   "metadata": {},
   "outputs": [
    {
     "data": {
      "text/plain": [
       "(pandas.core.frame.DataFrame, pandas.core.series.Series)"
      ]
     },
     "execution_count": 114,
     "metadata": {},
     "output_type": "execute_result"
    }
   ],
   "source": [
    "type(fashion_attributes), type(fashion_labels)"
   ]
  },
  {
   "cell_type": "code",
   "execution_count": 115,
   "metadata": {},
   "outputs": [],
   "source": [
    "fashion_attributes = train_df.drop(\"label\", axis = 1).values\n",
    "fashion_labels = train_df[\"label\"].values"
   ]
  },
  {
   "cell_type": "code",
   "execution_count": 116,
   "metadata": {},
   "outputs": [
    {
     "data": {
      "text/plain": [
       "(numpy.ndarray, numpy.ndarray)"
      ]
     },
     "execution_count": 116,
     "metadata": {},
     "output_type": "execute_result"
    }
   ],
   "source": [
    "type(fashion_attributes), type(fashion_labels)"
   ]
  },
  {
   "cell_type": "code",
   "execution_count": 117,
   "metadata": {},
   "outputs": [],
   "source": [
    "fashion_attributes = fashion_attributes.astype(\"float64\") / 255.0"
   ]
  },
  {
   "cell_type": "code",
   "execution_count": 118,
   "metadata": {},
   "outputs": [
    {
     "data": {
      "text/plain": [
       "0.0"
      ]
     },
     "execution_count": 118,
     "metadata": {},
     "output_type": "execute_result"
    }
   ],
   "source": [
    "fashion_attributes.min()"
   ]
  },
  {
   "cell_type": "code",
   "execution_count": 119,
   "metadata": {},
   "outputs": [
    {
     "data": {
      "text/plain": [
       "1.0"
      ]
     },
     "execution_count": 119,
     "metadata": {},
     "output_type": "execute_result"
    }
   ],
   "source": [
    "fashion_attributes.max()"
   ]
  },
  {
   "cell_type": "code",
   "execution_count": 120,
   "metadata": {},
   "outputs": [],
   "source": [
    "NUM_COLUMNS = fashion_attributes.shape[1]\n",
    "NUM_LABELS = len(set(fashion_labels))"
   ]
  },
  {
   "cell_type": "code",
   "execution_count": 121,
   "metadata": {},
   "outputs": [],
   "source": [
    "nn_model = Sequential([\n",
    "    Input(NUM_COLUMNS),\n",
    "    Dense(30, activation=\"relu\"),\n",
    "    Dense(20, activation=\"relu\"),\n",
    "    Dense(10, activation=\"relu\"),\n",
    "    Dense(NUM_LABELS, activation=\"softmax\")\n",
    "])"
   ]
  },
  {
   "cell_type": "code",
   "execution_count": 122,
   "metadata": {},
   "outputs": [
    {
     "name": "stdout",
     "output_type": "stream",
     "text": [
      "Model: \"sequential_12\"\n",
      "_________________________________________________________________\n",
      "Layer (type)                 Output Shape              Param #   \n",
      "=================================================================\n",
      "dense_48 (Dense)             (None, 30)                23550     \n",
      "_________________________________________________________________\n",
      "dense_49 (Dense)             (None, 20)                620       \n",
      "_________________________________________________________________\n",
      "dense_50 (Dense)             (None, 10)                210       \n",
      "_________________________________________________________________\n",
      "dense_51 (Dense)             (None, 10)                110       \n",
      "=================================================================\n",
      "Total params: 24,490\n",
      "Trainable params: 24,490\n",
      "Non-trainable params: 0\n",
      "_________________________________________________________________\n"
     ]
    }
   ],
   "source": [
    "nn_model.summary()"
   ]
  },
  {
   "cell_type": "code",
   "execution_count": 123,
   "metadata": {},
   "outputs": [
    {
     "data": {
      "text/plain": [
       "<tf.Tensor: id=1127492, shape=(60000, 10), dtype=float32, numpy=\n",
       "array([[0., 0., 1., ..., 0., 0., 0.],\n",
       "       [0., 0., 0., ..., 0., 0., 1.],\n",
       "       [0., 0., 0., ..., 0., 0., 0.],\n",
       "       ...,\n",
       "       [0., 0., 0., ..., 0., 1., 0.],\n",
       "       [0., 0., 0., ..., 0., 1., 0.],\n",
       "       [0., 0., 0., ..., 1., 0., 0.]], dtype=float32)>"
      ]
     },
     "execution_count": 123,
     "metadata": {},
     "output_type": "execute_result"
    }
   ],
   "source": [
    "tf.one_hot(fashion_labels, 10)"
   ]
  },
  {
   "cell_type": "code",
   "execution_count": 124,
   "metadata": {},
   "outputs": [],
   "source": [
    "nn_model.compile(optimizer = \"adam\", loss = sparse_categorical_crossentropy)"
   ]
  },
  {
   "cell_type": "code",
   "execution_count": 125,
   "metadata": {},
   "outputs": [
    {
     "name": "stdout",
     "output_type": "stream",
     "text": [
      "Train on 60000 samples\n",
      "Epoch 1/20\n",
      "WARNING:tensorflow:Entity <function Function._initialize_uninitialized_variables.<locals>.initialize_variables at 0x0000028DFA0CCB88> could not be transformed and will be executed as-is. Please report this to the AutoGraph team. When filing the bug, set the verbosity to 10 (on Linux, `export AUTOGRAPH_VERBOSITY=10`) and attach the full output. Cause: module 'gast' has no attribute 'Index'\n",
      "WARNING: Entity <function Function._initialize_uninitialized_variables.<locals>.initialize_variables at 0x0000028DFA0CCB88> could not be transformed and will be executed as-is. Please report this to the AutoGraph team. When filing the bug, set the verbosity to 10 (on Linux, `export AUTOGRAPH_VERBOSITY=10`) and attach the full output. Cause: module 'gast' has no attribute 'Index'\n",
      "60000/60000 [==============================] - 5s 81us/sample - loss: 0.6766\n",
      "Epoch 2/20\n",
      "60000/60000 [==============================] - 4s 65us/sample - loss: 0.4351\n",
      "Epoch 3/20\n",
      "60000/60000 [==============================] - 4s 64us/sample - loss: 0.3986\n",
      "Epoch 4/20\n",
      "60000/60000 [==============================] - 4s 65us/sample - loss: 0.3788\n",
      "Epoch 5/20\n",
      "60000/60000 [==============================] - 4s 64us/sample - loss: 0.3612\n",
      "Epoch 6/20\n",
      "60000/60000 [==============================] - 4s 64us/sample - loss: 0.3468\n",
      "Epoch 7/20\n",
      "60000/60000 [==============================] - 4s 65us/sample - loss: 0.3364\n",
      "Epoch 8/20\n",
      "60000/60000 [==============================] - 4s 67us/sample - loss: 0.3264\n",
      "Epoch 9/20\n",
      "60000/60000 [==============================] - 4s 69us/sample - loss: 0.3188\n",
      "Epoch 10/20\n",
      "60000/60000 [==============================] - 4s 66us/sample - loss: 0.3099\n",
      "Epoch 11/20\n",
      "60000/60000 [==============================] - 4s 64us/sample - loss: 0.3058\n",
      "Epoch 12/20\n",
      "60000/60000 [==============================] - 4s 65us/sample - loss: 0.2994\n",
      "Epoch 13/20\n",
      "60000/60000 [==============================] - 4s 65us/sample - loss: 0.2954\n",
      "Epoch 14/20\n",
      "60000/60000 [==============================] - 4s 67us/sample - loss: 0.2898\n",
      "Epoch 15/20\n",
      "60000/60000 [==============================] - 4s 67us/sample - loss: 0.2862\n",
      "Epoch 16/20\n",
      "60000/60000 [==============================] - 4s 70us/sample - loss: 0.2827\n",
      "Epoch 17/20\n",
      "60000/60000 [==============================] - 4s 73us/sample - loss: 0.2779\n",
      "Epoch 18/20\n",
      "60000/60000 [==============================] - 4s 64us/sample - loss: 0.2753\n",
      "Epoch 19/20\n",
      "60000/60000 [==============================] - ETA: 0s - loss: 0.270 - 5s 78us/sample - loss: 0.2700\n",
      "Epoch 20/20\n",
      "60000/60000 [==============================] - 4s 62us/sample - loss: 0.2681\n"
     ]
    },
    {
     "data": {
      "text/plain": [
       "<tensorflow.python.keras.callbacks.History at 0x28dfa8dd308>"
      ]
     },
     "execution_count": 125,
     "metadata": {},
     "output_type": "execute_result"
    }
   ],
   "source": [
    "nn_model.fit(fashion_attributes, fashion_labels, epochs = 20)"
   ]
  },
  {
   "cell_type": "code",
   "execution_count": 126,
   "metadata": {},
   "outputs": [
    {
     "data": {
      "text/plain": [
       "False"
      ]
     },
     "execution_count": 126,
     "metadata": {},
     "output_type": "execute_result"
    }
   ],
   "source": [
    "tf.test.is_gpu_available()"
   ]
  },
  {
   "cell_type": "code",
   "execution_count": 127,
   "metadata": {},
   "outputs": [],
   "source": [
    "nn_model2 = Sequential([\n",
    "    Input(NUM_COLUMNS),\n",
    "    Dense(20, activation=\"relu\"),\n",
    "    Dense(10, activation=\"relu\"),\n",
    "    Dense(30, activation=\"relu\"),\n",
    "    Dense(NUM_LABELS, activation=\"softmax\")\n",
    "])"
   ]
  },
  {
   "cell_type": "code",
   "execution_count": 128,
   "metadata": {},
   "outputs": [
    {
     "name": "stdout",
     "output_type": "stream",
     "text": [
      "Model: \"sequential_13\"\n",
      "_________________________________________________________________\n",
      "Layer (type)                 Output Shape              Param #   \n",
      "=================================================================\n",
      "dense_52 (Dense)             (None, 20)                15700     \n",
      "_________________________________________________________________\n",
      "dense_53 (Dense)             (None, 10)                210       \n",
      "_________________________________________________________________\n",
      "dense_54 (Dense)             (None, 30)                330       \n",
      "_________________________________________________________________\n",
      "dense_55 (Dense)             (None, 10)                310       \n",
      "=================================================================\n",
      "Total params: 16,550\n",
      "Trainable params: 16,550\n",
      "Non-trainable params: 0\n",
      "_________________________________________________________________\n"
     ]
    }
   ],
   "source": [
    "nn_model2.summary()"
   ]
  },
  {
   "cell_type": "code",
   "execution_count": 129,
   "metadata": {},
   "outputs": [
    {
     "name": "stdout",
     "output_type": "stream",
     "text": [
      "Train on 60000 samples\n",
      "Epoch 1/20\n",
      "WARNING:tensorflow:Entity <function Function._initialize_uninitialized_variables.<locals>.initialize_variables at 0x0000028DF92988B8> could not be transformed and will be executed as-is. Please report this to the AutoGraph team. When filing the bug, set the verbosity to 10 (on Linux, `export AUTOGRAPH_VERBOSITY=10`) and attach the full output. Cause: module 'gast' has no attribute 'Index'\n",
      "WARNING: Entity <function Function._initialize_uninitialized_variables.<locals>.initialize_variables at 0x0000028DF92988B8> could not be transformed and will be executed as-is. Please report this to the AutoGraph team. When filing the bug, set the verbosity to 10 (on Linux, `export AUTOGRAPH_VERBOSITY=10`) and attach the full output. Cause: module 'gast' has no attribute 'Index'\n",
      "60000/60000 [==============================] - 4s 68us/sample - loss: 0.6355\n",
      "Epoch 2/20\n",
      "60000/60000 [==============================] - 4s 62us/sample - loss: 0.4323\n",
      "Epoch 3/20\n",
      "60000/60000 [==============================] - 4s 63us/sample - loss: 0.3965\n",
      "Epoch 4/20\n",
      "60000/60000 [==============================] - 4s 63us/sample - loss: 0.3724\n",
      "Epoch 5/20\n",
      "60000/60000 [==============================] - 4s 62us/sample - loss: 0.3597\n",
      "Epoch 6/20\n",
      "60000/60000 [==============================] - 4s 62us/sample - loss: 0.3484\n",
      "Epoch 7/20\n",
      "60000/60000 [==============================] - 4s 66us/sample - loss: 0.3401\n",
      "Epoch 8/20\n",
      "60000/60000 [==============================] - 4s 65us/sample - loss: 0.3319\n",
      "Epoch 9/20\n",
      "60000/60000 [==============================] - 4s 63us/sample - loss: 0.32290s - loss: 0\n",
      "Epoch 10/20\n",
      "60000/60000 [==============================] - 4s 68us/sample - loss: 0.3179\n",
      "Epoch 11/20\n",
      "60000/60000 [==============================] - 4s 63us/sample - loss: 0.3162\n",
      "Epoch 12/20\n",
      "60000/60000 [==============================] - 4s 64us/sample - loss: 0.3071\n",
      "Epoch 13/20\n",
      "60000/60000 [==============================] - 4s 65us/sample - loss: 0.3061\n",
      "Epoch 14/20\n",
      "60000/60000 [==============================] - 4s 61us/sample - loss: 0.3001\n",
      "Epoch 15/20\n",
      "60000/60000 [==============================] - 4s 62us/sample - loss: 0.2980\n",
      "Epoch 16/20\n",
      "60000/60000 [==============================] - 4s 60us/sample - loss: 0.2931\n",
      "Epoch 17/20\n",
      "60000/60000 [==============================] - 5s 86us/sample - loss: 0.2907\n",
      "Epoch 18/20\n",
      "60000/60000 [==============================] - 5s 76us/sample - loss: 0.2869\n",
      "Epoch 19/20\n",
      "60000/60000 [==============================] - 4s 59us/sample - loss: 0.2853\n",
      "Epoch 20/20\n",
      "60000/60000 [==============================] - 4s 63us/sample - loss: 0.28200s - loss: 0.282\n"
     ]
    },
    {
     "data": {
      "text/plain": [
       "<tensorflow.python.keras.callbacks.History at 0x28df87ea9c8>"
      ]
     },
     "execution_count": 129,
     "metadata": {},
     "output_type": "execute_result"
    }
   ],
   "source": [
    "nn_model2.compile(optimizer = \"adam\", loss = sparse_categorical_crossentropy)\n",
    "nn_model2.fit(fashion_attributes, fashion_labels, epochs = 20)"
   ]
  },
  {
   "cell_type": "code",
   "execution_count": 130,
   "metadata": {},
   "outputs": [
    {
     "data": {
      "text/plain": [
       "<tf.Variable 'dense_53/kernel:0' shape=(20, 10) dtype=float32, numpy=\n",
       "array([[ 0.24378093, -0.23956919, -0.17608233,  0.24583419,  0.42739204,\n",
       "         0.37551486,  1.0262855 ,  0.10369918,  0.42574778, -0.37509477],\n",
       "       [-0.2628033 ,  0.23273626, -0.44769627,  0.08512498, -0.5851472 ,\n",
       "         0.09792862, -0.36452028,  0.21332319, -0.36950612, -0.11599426],\n",
       "       [ 0.3467895 , -0.11463416, -0.23322457, -0.130527  , -0.50319546,\n",
       "        -0.00544308, -0.15487151,  0.36499763,  0.12134468, -0.09606608],\n",
       "       [-0.02055614,  0.10460368, -0.27784827,  0.33816254,  0.2597848 ,\n",
       "        -0.35905245, -0.25297573, -0.16528642, -0.300891  , -0.31445372],\n",
       "       [-0.2971508 ,  0.29998514,  0.10659432,  0.8911146 , -0.3860755 ,\n",
       "         0.3855793 , -0.383239  , -0.3759941 , -0.3986947 ,  0.6784705 ],\n",
       "       [-0.20999917,  0.5728418 , -1.0956954 ,  0.1813972 , -0.20840313,\n",
       "        -0.261868  , -0.09917118, -0.19314486,  0.24756478,  0.3527935 ],\n",
       "       [ 0.18663155,  0.04968715, -0.22935079,  0.64267135,  0.2682513 ,\n",
       "         0.23511219, -0.8704307 , -0.43111768,  0.23686588, -0.14520799],\n",
       "       [-0.22729181, -0.34016916,  0.30294985, -0.440975  ,  0.21253559,\n",
       "        -0.32897484,  0.18039972,  0.07563607, -0.25353932, -0.25005522],\n",
       "       [ 0.3037066 , -0.0088143 , -0.5635808 ,  0.43829522,  0.08121652,\n",
       "        -0.28127685,  0.08732303,  0.38495016,  0.02697222,  0.4064928 ],\n",
       "       [-0.05981972, -0.3233962 , -0.31349736, -0.84693164,  0.08291277,\n",
       "         0.8571764 , -0.6055366 , -0.44194606, -1.4621758 , -0.769193  ],\n",
       "       [ 0.00387002,  0.46860692, -0.01849923, -0.7070657 , -0.26437512,\n",
       "         0.17801414,  0.42335573, -0.40435764, -0.29637533, -0.0747841 ],\n",
       "       [-0.32091495,  0.3487916 ,  0.12636486,  0.11072043,  0.26320386,\n",
       "         0.18912117,  0.48618993,  0.510293  ,  0.14374661,  0.22873743],\n",
       "       [-0.5068392 , -0.16695134,  0.39819297, -0.08908395,  0.35246146,\n",
       "        -0.38164064,  0.7751689 ,  0.04266742, -0.530525  , -0.09330094],\n",
       "       [-0.02301975,  0.35217804,  0.1203109 , -0.45967233,  0.3102705 ,\n",
       "        -0.21842238,  0.27918047, -0.1010525 , -0.57581925,  0.4999843 ],\n",
       "       [ 0.9306098 , -0.20180699,  0.8412055 ,  0.44992095,  0.42658886,\n",
       "         1.1339395 , -0.4969425 , -0.0295925 , -0.3609248 , -0.60553324],\n",
       "       [-0.33405524,  0.5724977 ,  0.16009778, -0.16595934,  0.5420144 ,\n",
       "         0.50813544, -0.4652356 ,  0.09774166, -0.4793663 , -0.02613755],\n",
       "       [ 0.54353833,  0.12419921, -0.04631343, -0.31835023,  0.39011857,\n",
       "         0.2485758 , -0.33385032,  0.34078923,  0.38834912,  0.0170581 ],\n",
       "       [ 0.16453528, -0.1292291 ,  0.08599848,  0.41628647,  0.2049448 ,\n",
       "        -0.14037694,  0.30603334, -0.14436267, -0.16157268,  0.10264983],\n",
       "       [ 0.01655006,  0.63032454, -0.09845804,  0.19013146, -0.53768605,\n",
       "        -0.10025697,  0.01984366,  0.28556496,  0.546234  ,  0.33604562],\n",
       "       [-0.04715875, -0.8063427 ,  0.29874983, -0.01428669, -0.21301807,\n",
       "         0.3326538 ,  0.31972125, -0.10880487, -0.53173214, -0.5151071 ]],\n",
       "      dtype=float32)>"
      ]
     },
     "execution_count": 130,
     "metadata": {},
     "output_type": "execute_result"
    }
   ],
   "source": [
    "nn_model2.layers[1].kernel"
   ]
  },
  {
   "cell_type": "code",
   "execution_count": 131,
   "metadata": {},
   "outputs": [
    {
     "data": {
      "text/plain": [
       "<tf.Variable 'dense_53/bias:0' shape=(10,) dtype=float32, numpy=\n",
       "array([ 0.31465992, -0.31024608,  0.34202257,  0.4497845 , -0.1576412 ,\n",
       "        0.7711385 ,  0.52879256,  0.19847873, -0.04825997,  0.16355376],\n",
       "      dtype=float32)>"
      ]
     },
     "execution_count": 131,
     "metadata": {},
     "output_type": "execute_result"
    }
   ],
   "source": [
    "nn_model2.layers[1].bias"
   ]
  },
  {
   "cell_type": "code",
   "execution_count": 132,
   "metadata": {},
   "outputs": [
    {
     "data": {
      "text/plain": [
       "[<tf.Variable 'dense_53/kernel:0' shape=(20, 10) dtype=float32, numpy=\n",
       " array([[ 0.24378093, -0.23956919, -0.17608233,  0.24583419,  0.42739204,\n",
       "          0.37551486,  1.0262855 ,  0.10369918,  0.42574778, -0.37509477],\n",
       "        [-0.2628033 ,  0.23273626, -0.44769627,  0.08512498, -0.5851472 ,\n",
       "          0.09792862, -0.36452028,  0.21332319, -0.36950612, -0.11599426],\n",
       "        [ 0.3467895 , -0.11463416, -0.23322457, -0.130527  , -0.50319546,\n",
       "         -0.00544308, -0.15487151,  0.36499763,  0.12134468, -0.09606608],\n",
       "        [-0.02055614,  0.10460368, -0.27784827,  0.33816254,  0.2597848 ,\n",
       "         -0.35905245, -0.25297573, -0.16528642, -0.300891  , -0.31445372],\n",
       "        [-0.2971508 ,  0.29998514,  0.10659432,  0.8911146 , -0.3860755 ,\n",
       "          0.3855793 , -0.383239  , -0.3759941 , -0.3986947 ,  0.6784705 ],\n",
       "        [-0.20999917,  0.5728418 , -1.0956954 ,  0.1813972 , -0.20840313,\n",
       "         -0.261868  , -0.09917118, -0.19314486,  0.24756478,  0.3527935 ],\n",
       "        [ 0.18663155,  0.04968715, -0.22935079,  0.64267135,  0.2682513 ,\n",
       "          0.23511219, -0.8704307 , -0.43111768,  0.23686588, -0.14520799],\n",
       "        [-0.22729181, -0.34016916,  0.30294985, -0.440975  ,  0.21253559,\n",
       "         -0.32897484,  0.18039972,  0.07563607, -0.25353932, -0.25005522],\n",
       "        [ 0.3037066 , -0.0088143 , -0.5635808 ,  0.43829522,  0.08121652,\n",
       "         -0.28127685,  0.08732303,  0.38495016,  0.02697222,  0.4064928 ],\n",
       "        [-0.05981972, -0.3233962 , -0.31349736, -0.84693164,  0.08291277,\n",
       "          0.8571764 , -0.6055366 , -0.44194606, -1.4621758 , -0.769193  ],\n",
       "        [ 0.00387002,  0.46860692, -0.01849923, -0.7070657 , -0.26437512,\n",
       "          0.17801414,  0.42335573, -0.40435764, -0.29637533, -0.0747841 ],\n",
       "        [-0.32091495,  0.3487916 ,  0.12636486,  0.11072043,  0.26320386,\n",
       "          0.18912117,  0.48618993,  0.510293  ,  0.14374661,  0.22873743],\n",
       "        [-0.5068392 , -0.16695134,  0.39819297, -0.08908395,  0.35246146,\n",
       "         -0.38164064,  0.7751689 ,  0.04266742, -0.530525  , -0.09330094],\n",
       "        [-0.02301975,  0.35217804,  0.1203109 , -0.45967233,  0.3102705 ,\n",
       "         -0.21842238,  0.27918047, -0.1010525 , -0.57581925,  0.4999843 ],\n",
       "        [ 0.9306098 , -0.20180699,  0.8412055 ,  0.44992095,  0.42658886,\n",
       "          1.1339395 , -0.4969425 , -0.0295925 , -0.3609248 , -0.60553324],\n",
       "        [-0.33405524,  0.5724977 ,  0.16009778, -0.16595934,  0.5420144 ,\n",
       "          0.50813544, -0.4652356 ,  0.09774166, -0.4793663 , -0.02613755],\n",
       "        [ 0.54353833,  0.12419921, -0.04631343, -0.31835023,  0.39011857,\n",
       "          0.2485758 , -0.33385032,  0.34078923,  0.38834912,  0.0170581 ],\n",
       "        [ 0.16453528, -0.1292291 ,  0.08599848,  0.41628647,  0.2049448 ,\n",
       "         -0.14037694,  0.30603334, -0.14436267, -0.16157268,  0.10264983],\n",
       "        [ 0.01655006,  0.63032454, -0.09845804,  0.19013146, -0.53768605,\n",
       "         -0.10025697,  0.01984366,  0.28556496,  0.546234  ,  0.33604562],\n",
       "        [-0.04715875, -0.8063427 ,  0.29874983, -0.01428669, -0.21301807,\n",
       "          0.3326538 ,  0.31972125, -0.10880487, -0.53173214, -0.5151071 ]],\n",
       "       dtype=float32)>,\n",
       " <tf.Variable 'dense_53/bias:0' shape=(10,) dtype=float32, numpy=\n",
       " array([ 0.31465992, -0.31024608,  0.34202257,  0.4497845 , -0.1576412 ,\n",
       "         0.7711385 ,  0.52879256,  0.19847873, -0.04825997,  0.16355376],\n",
       "       dtype=float32)>]"
      ]
     },
     "execution_count": 132,
     "metadata": {},
     "output_type": "execute_result"
    }
   ],
   "source": [
    "nn_model2.layers[1].weights"
   ]
  },
  {
   "cell_type": "code",
   "execution_count": 133,
   "metadata": {},
   "outputs": [
    {
     "data": {
      "text/plain": [
       "<tf.Variable 'dense_54/bias:0' shape=(30,) dtype=float32, numpy=\n",
       "array([ 0.05215172,  0.6086847 ,  0.61592066,  0.00511712,  0.10586764,\n",
       "       -0.26219028, -0.18984021, -0.02516861,  0.13728502,  0.19617876,\n",
       "       -0.4341307 ,  0.6314111 , -0.24439895, -0.20427042,  0.29094648,\n",
       "        0.4438365 , -0.01954989,  0.9474237 ,  0.15301202,  0.67201936,\n",
       "        0.32280067,  0.00766216,  0.00954948,  0.5901682 ,  0.6152789 ,\n",
       "        0.6157283 , -0.21922332, -0.30428907,  0.93352884,  0.90893775],\n",
       "      dtype=float32)>"
      ]
     },
     "execution_count": 133,
     "metadata": {},
     "output_type": "execute_result"
    }
   ],
   "source": [
    "nn_model2.layers[2].bias"
   ]
  },
  {
   "cell_type": "code",
   "execution_count": 134,
   "metadata": {},
   "outputs": [],
   "source": [
    "nn_model2 = Sequential([\n",
    "    Input(NUM_COLUMNS),\n",
    "    Dense(20, activation=\"relu\", kernel_regularizer= L1L2(), bias_regularizer=L1L2()),\n",
    "    Dense(10, activation=\"relu\"),\n",
    "    Dense(30, activation=\"relu\"),\n",
    "    Dense(NUM_LABELS, activation=\"softmax\")\n",
    "])"
   ]
  },
  {
   "cell_type": "code",
   "execution_count": 135,
   "metadata": {},
   "outputs": [],
   "source": [
    "regularizer = L1L2(l1=0.01, l2=0.0001)"
   ]
  },
  {
   "cell_type": "code",
   "execution_count": 136,
   "metadata": {},
   "outputs": [],
   "source": [
    "nn_model2 = Sequential([\n",
    "    Input(NUM_COLUMNS),\n",
    "    Dense(20, activation=\"relu\"),\n",
    "    Dropout(0.05),\n",
    "    Dense(10, activation=\"relu\"),\n",
    "    Dropout(0.05),\n",
    "    Dense(30, activation=\"relu\"),\n",
    "    Dropout(0.05),\n",
    "    Dense(NUM_LABELS, activation=\"softmax\", kernel_regularizer=regularizer, bias_regularizer=regularizer)\n",
    "])"
   ]
  },
  {
   "cell_type": "code",
   "execution_count": 137,
   "metadata": {},
   "outputs": [
    {
     "name": "stdout",
     "output_type": "stream",
     "text": [
      "Model: \"sequential_15\"\n",
      "_________________________________________________________________\n",
      "Layer (type)                 Output Shape              Param #   \n",
      "=================================================================\n",
      "dense_60 (Dense)             (None, 20)                15700     \n",
      "_________________________________________________________________\n",
      "dropout_13 (Dropout)         (None, 20)                0         \n",
      "_________________________________________________________________\n",
      "dense_61 (Dense)             (None, 10)                210       \n",
      "_________________________________________________________________\n",
      "dropout_14 (Dropout)         (None, 10)                0         \n",
      "_________________________________________________________________\n",
      "dense_62 (Dense)             (None, 30)                330       \n",
      "_________________________________________________________________\n",
      "dropout_15 (Dropout)         (None, 30)                0         \n",
      "_________________________________________________________________\n",
      "dense_63 (Dense)             (None, 10)                310       \n",
      "=================================================================\n",
      "Total params: 16,550\n",
      "Trainable params: 16,550\n",
      "Non-trainable params: 0\n",
      "_________________________________________________________________\n"
     ]
    }
   ],
   "source": [
    "nn_model2.summary()"
   ]
  },
  {
   "cell_type": "code",
   "execution_count": 138,
   "metadata": {},
   "outputs": [],
   "source": [
    "nn_model2.compile(optimizer = \"adam\", loss = sparse_categorical_crossentropy)"
   ]
  },
  {
   "cell_type": "code",
   "execution_count": 139,
   "metadata": {},
   "outputs": [
    {
     "name": "stdout",
     "output_type": "stream",
     "text": [
      "Train on 60000 samples\n",
      "Epoch 1/20\n",
      "WARNING:tensorflow:Entity <function Function._initialize_uninitialized_variables.<locals>.initialize_variables at 0x0000028DFA79F708> could not be transformed and will be executed as-is. Please report this to the AutoGraph team. When filing the bug, set the verbosity to 10 (on Linux, `export AUTOGRAPH_VERBOSITY=10`) and attach the full output. Cause: module 'gast' has no attribute 'Index'\n",
      "WARNING: Entity <function Function._initialize_uninitialized_variables.<locals>.initialize_variables at 0x0000028DFA79F708> could not be transformed and will be executed as-is. Please report this to the AutoGraph team. When filing the bug, set the verbosity to 10 (on Linux, `export AUTOGRAPH_VERBOSITY=10`) and attach the full output. Cause: module 'gast' has no attribute 'Index'\n",
      "60000/60000 [==============================] - 3s 47us/sample - loss: 1.1672\n",
      "Epoch 2/20\n",
      "60000/60000 [==============================] - 2s 39us/sample - loss: 0.7591\n",
      "Epoch 3/20\n",
      "60000/60000 [==============================] - 2s 38us/sample - loss: 0.6722\n",
      "Epoch 4/20\n",
      "60000/60000 [==============================] - 2s 38us/sample - loss: 0.6215\n",
      "Epoch 5/20\n",
      "60000/60000 [==============================] - 2s 40us/sample - loss: 0.5889\n",
      "Epoch 6/20\n",
      "60000/60000 [==============================] - 2s 39us/sample - loss: 0.5651\n",
      "Epoch 7/20\n",
      "60000/60000 [==============================] - 2s 38us/sample - loss: 0.5479\n",
      "Epoch 8/20\n",
      "60000/60000 [==============================] - 2s 39us/sample - loss: 0.5315\n",
      "Epoch 9/20\n",
      "60000/60000 [==============================] - 2s 39us/sample - loss: 0.5204\n",
      "Epoch 10/20\n",
      "60000/60000 [==============================] - 3s 51us/sample - loss: 0.5073\n",
      "Epoch 11/20\n",
      "60000/60000 [==============================] - 2s 40us/sample - loss: 0.4980\n",
      "Epoch 12/20\n",
      "60000/60000 [==============================] - 2s 39us/sample - loss: 0.4907\n",
      "Epoch 13/20\n",
      "60000/60000 [==============================] - 2s 39us/sample - loss: 0.4830\n",
      "Epoch 14/20\n",
      "60000/60000 [==============================] - 3s 48us/sample - loss: 0.4752\n",
      "Epoch 15/20\n",
      "60000/60000 [==============================] - 2s 40us/sample - loss: 0.4715\n",
      "Epoch 16/20\n",
      "60000/60000 [==============================] - 2s 39us/sample - loss: 0.4679\n",
      "Epoch 17/20\n",
      "60000/60000 [==============================] - 2s 40us/sample - loss: 0.4625\n",
      "Epoch 18/20\n",
      "60000/60000 [==============================] - 2s 39us/sample - loss: 0.4615\n",
      "Epoch 19/20\n",
      "60000/60000 [==============================] - 2s 40us/sample - loss: 0.4595\n",
      "Epoch 20/20\n",
      "60000/60000 [==============================] - 2s 40us/sample - loss: 0.4501\n"
     ]
    }
   ],
   "source": [
    "history = nn_model2.fit(fashion_attributes, fashion_labels, epochs = 20, steps_per_epoch = 1000)"
   ]
  },
  {
   "cell_type": "code",
   "execution_count": 140,
   "metadata": {},
   "outputs": [
    {
     "data": {
      "text/plain": [
       "{'loss': [1.167246433198452,\n",
       "  0.759123457044363,\n",
       "  0.672164942085743,\n",
       "  0.6214652698636055,\n",
       "  0.5889148466587066,\n",
       "  0.565122552961111,\n",
       "  0.5479137389957904,\n",
       "  0.5314606703817845,\n",
       "  0.5203826313018799,\n",
       "  0.5072994697391987,\n",
       "  0.49796925982832907,\n",
       "  0.4907218111604452,\n",
       "  0.48301316490769386,\n",
       "  0.47515853157639504,\n",
       "  0.4714569976478815,\n",
       "  0.467928523376584,\n",
       "  0.4625255979150534,\n",
       "  0.46147058449685574,\n",
       "  0.459452719733119,\n",
       "  0.4501467439085245]}"
      ]
     },
     "execution_count": 140,
     "metadata": {},
     "output_type": "execute_result"
    }
   ],
   "source": [
    "history.history"
   ]
  },
  {
   "cell_type": "code",
   "execution_count": 141,
   "metadata": {},
   "outputs": [
    {
     "data": {
      "image/png": "[encoded data removed]",
      "text/plain": [
       "<Figure size 432x288 with 1 Axes>"
      ]
     },
     "metadata": {
      "needs_background": "light"
     },
     "output_type": "display_data"
    }
   ],
   "source": [
    "plt.plot(history.history[\"loss\"])\n",
    "plt.show()"
   ]
  },
  {
   "cell_type": "code",
   "execution_count": 142,
   "metadata": {},
   "outputs": [],
   "source": [
    "nn_model3 = Sequential([\n",
    "    Input(NUM_COLUMNS),\n",
    "    BatchNormalization(),\n",
    "    Dense(20, activation=\"relu\"),\n",
    "    BatchNormalization(),\n",
    "    Dense(10, activation=\"relu\"),\n",
    "    BatchNormalization(),\n",
    "    Dense(30, activation=\"relu\"),\n",
    "    Dense(NUM_LABELS, activation=\"softmax\", kernel_regularizer=regularizer, bias_regularizer=regularizer)\n",
    "])"
   ]
  },
  {
   "cell_type": "code",
   "execution_count": 143,
   "metadata": {},
   "outputs": [
    {
     "name": "stdout",
     "output_type": "stream",
     "text": [
      "Model: \"sequential_16\"\n",
      "_________________________________________________________________\n",
      "Layer (type)                 Output Shape              Param #   \n",
      "=================================================================\n",
      "batch_normalization_3 (Batch (None, 784)               3136      \n",
      "_________________________________________________________________\n",
      "dense_64 (Dense)             (None, 20)                15700     \n",
      "_________________________________________________________________\n",
      "batch_normalization_4 (Batch (None, 20)                80        \n",
      "_________________________________________________________________\n",
      "dense_65 (Dense)             (None, 10)                210       \n",
      "_________________________________________________________________\n",
      "batch_normalization_5 (Batch (None, 10)                40        \n",
      "_________________________________________________________________\n",
      "dense_66 (Dense)             (None, 30)                330       \n",
      "_________________________________________________________________\n",
      "dense_67 (Dense)             (None, 10)                310       \n",
      "=================================================================\n",
      "Total params: 19,806\n",
      "Trainable params: 18,178\n",
      "Non-trainable params: 1,628\n",
      "_________________________________________________________________\n"
     ]
    }
   ],
   "source": [
    "nn_model3.summary()"
   ]
  },
  {
   "cell_type": "code",
   "execution_count": 144,
   "metadata": {},
   "outputs": [],
   "source": [
    "nn_model3.compile(optimizer = \"adam\", loss = sparse_categorical_crossentropy)"
   ]
  },
  {
   "cell_type": "code",
   "execution_count": 145,
   "metadata": {},
   "outputs": [
    {
     "name": "stdout",
     "output_type": "stream",
     "text": [
      "Train on 60000 samples\n",
      "Epoch 1/20\n",
      "WARNING:tensorflow:Entity <function Function._initialize_uninitialized_variables.<locals>.initialize_variables at 0x0000028DF3090678> could not be transformed and will be executed as-is. Please report this to the AutoGraph team. When filing the bug, set the verbosity to 10 (on Linux, `export AUTOGRAPH_VERBOSITY=10`) and attach the full output. Cause: module 'gast' has no attribute 'Index'\n",
      "WARNING: Entity <function Function._initialize_uninitialized_variables.<locals>.initialize_variables at 0x0000028DF3090678> could not be transformed and will be executed as-is. Please report this to the AutoGraph team. When filing the bug, set the verbosity to 10 (on Linux, `export AUTOGRAPH_VERBOSITY=10`) and attach the full output. Cause: module 'gast' has no attribute 'Index'\n",
      "60000/60000 [==============================] - 7s 122us/sample - loss: 0.9252\n",
      "Epoch 2/20\n",
      "60000/60000 [==============================] - 6s 108us/sample - loss: 0.5791\n",
      "Epoch 3/20\n",
      "60000/60000 [==============================] - 6s 97us/sample - loss: 0.5192\n",
      "Epoch 4/20\n",
      "60000/60000 [==============================] - 5s 90us/sample - loss: 0.4841\n",
      "Epoch 5/20\n",
      "60000/60000 [==============================] - 8s 126us/sample - loss: 0.4607\n",
      "Epoch 6/20\n",
      "60000/60000 [==============================] - 8s 135us/sample - loss: 0.4445\n",
      "Epoch 7/20\n",
      "60000/60000 [==============================] - 8s 126us/sample - loss: 0.4349\n",
      "Epoch 8/20\n",
      "60000/60000 [==============================] - 5s 91us/sample - loss: 0.4211\n",
      "Epoch 9/20\n",
      "60000/60000 [==============================] - 5s 91us/sample - loss: 0.4140\n",
      "Epoch 10/20\n",
      "60000/60000 [==============================] - 5s 92us/sample - loss: 0.4070\n",
      "Epoch 11/20\n",
      "60000/60000 [==============================] - 5s 85us/sample - loss: 0.3987\n",
      "Epoch 12/20\n",
      "60000/60000 [==============================] - 5s 84us/sample - loss: 0.3960\n",
      "Epoch 13/20\n",
      "60000/60000 [==============================] - 6s 103us/sample - loss: 0.3902\n",
      "Epoch 14/20\n",
      "60000/60000 [==============================] - 7s 111us/sample - loss: 0.3832\n",
      "Epoch 15/20\n",
      "60000/60000 [==============================] - 7s 121us/sample - loss: 0.3810\n",
      "Epoch 16/20\n",
      "60000/60000 [==============================] - 5s 87us/sample - loss: 0.3793\n",
      "Epoch 17/20\n",
      "60000/60000 [==============================] - 5s 85us/sample - loss: 0.3740\n",
      "Epoch 18/20\n",
      "60000/60000 [==============================] - 6s 99us/sample - loss: 0.3691\n",
      "Epoch 19/20\n",
      "60000/60000 [==============================] - 6s 92us/sample - loss: 0.3659\n",
      "Epoch 20/20\n",
      "60000/60000 [==============================] - 7s 111us/sample - loss: 0.3646\n"
     ]
    }
   ],
   "source": [
    "history = nn_model3.fit(fashion_attributes, fashion_labels, epochs = 20)"
   ]
  },
  {
   "cell_type": "code",
   "execution_count": null,
   "metadata": {},
   "outputs": [],
   "source": []
  },
  {
   "cell_type": "code",
   "execution_count": null,
   "metadata": {},
   "outputs": [],
   "source": []
  }
 ],
 "metadata": {
  "kernelspec": {
   "display_name": "gputensorflow",
   "language": "python",
   "name": "gputensorflow"
  },
  "language_info": {
   "codemirror_mode": {
    "name": "ipython",
    "version": 3
   },
   "file_extension": ".py",
   "mimetype": "text/x-python",
   "name": "python",
   "nbconvert_exporter": "python",
   "pygments_lexer": "ipython3",
   "version": "3.7.8"
  }
 },
 "nbformat": 4,
 "nbformat_minor": 4
}
